{
  "nbformat": 4,
  "nbformat_minor": 0,
  "metadata": {
    "colab": {
      "name": "Graphing Exercise.ipynb",
      "provenance": [],
      "collapsed_sections": [],
      "authorship_tag": "ABX9TyO+F+/LHoWZsfcfcRCO7u2s",
      "include_colab_link": true
    },
    "kernelspec": {
      "name": "python3",
      "display_name": "Python 3"
    },
    "language_info": {
      "name": "python"
    }
  },
  "cells": [
    {
      "cell_type": "markdown",
      "metadata": {
        "id": "view-in-github",
        "colab_type": "text"
      },
      "source": [
        "<a href=\"https://colab.research.google.com/github/theoreality/P1P1/blob/main/Graphing_Exercise.ipynb\" target=\"_parent\"><img src=\"https://colab.research.google.com/assets/colab-badge.svg\" alt=\"Open In Colab\"/></a>"
      ]
    },
    {
      "cell_type": "code",
      "metadata": {
        "id": "_5V-nsfjMq-Z"
      },
      "source": [
        "import pandas as pd\n",
        "import matplotlib.pyplot as plt\n",
        "plt.style.use('seaborn-whitegrid')\n",
        "import numpy as np\n",
        "import seaborn as sns"
      ],
      "execution_count": 23,
      "outputs": []
    },
    {
      "cell_type": "code",
      "metadata": {
        "colab": {
          "base_uri": "https://localhost:8080/",
          "height": 421
        },
        "id": "Qpy1-8ogMvQN",
        "outputId": "5e5ec3bd-4512-47eb-936a-f5c7d2121dd1"
      },
      "source": [
        "df = '/content/DP_LIVE_18102020154144776.csv'\n",
        "df = pd.read_csv(df, header = 0)\n",
        "df"
      ],
      "execution_count": 13,
      "outputs": [
        {
          "output_type": "execute_result",
          "data": {
            "text/html": [
              "<div>\n",
              "<style scoped>\n",
              "    .dataframe tbody tr th:only-of-type {\n",
              "        vertical-align: middle;\n",
              "    }\n",
              "\n",
              "    .dataframe tbody tr th {\n",
              "        vertical-align: top;\n",
              "    }\n",
              "\n",
              "    .dataframe thead th {\n",
              "        text-align: right;\n",
              "    }\n",
              "</style>\n",
              "<table border=\"1\" class=\"dataframe\">\n",
              "  <thead>\n",
              "    <tr style=\"text-align: right;\">\n",
              "      <th></th>\n",
              "      <th>LOCATION</th>\n",
              "      <th>INDICATOR</th>\n",
              "      <th>SUBJECT</th>\n",
              "      <th>MEASURE</th>\n",
              "      <th>FREQUENCY</th>\n",
              "      <th>TIME</th>\n",
              "      <th>Value</th>\n",
              "      <th>Flag Codes</th>\n",
              "    </tr>\n",
              "  </thead>\n",
              "  <tbody>\n",
              "    <tr>\n",
              "      <th>0</th>\n",
              "      <td>AUS</td>\n",
              "      <td>HEALTHEXP</td>\n",
              "      <td>TOT</td>\n",
              "      <td>PC_GDP</td>\n",
              "      <td>A</td>\n",
              "      <td>1971</td>\n",
              "      <td>4.547</td>\n",
              "      <td>NaN</td>\n",
              "    </tr>\n",
              "    <tr>\n",
              "      <th>1</th>\n",
              "      <td>AUS</td>\n",
              "      <td>HEALTHEXP</td>\n",
              "      <td>TOT</td>\n",
              "      <td>PC_GDP</td>\n",
              "      <td>A</td>\n",
              "      <td>1972</td>\n",
              "      <td>4.547</td>\n",
              "      <td>NaN</td>\n",
              "    </tr>\n",
              "    <tr>\n",
              "      <th>2</th>\n",
              "      <td>AUS</td>\n",
              "      <td>HEALTHEXP</td>\n",
              "      <td>TOT</td>\n",
              "      <td>PC_GDP</td>\n",
              "      <td>A</td>\n",
              "      <td>1973</td>\n",
              "      <td>4.511</td>\n",
              "      <td>NaN</td>\n",
              "    </tr>\n",
              "    <tr>\n",
              "      <th>3</th>\n",
              "      <td>AUS</td>\n",
              "      <td>HEALTHEXP</td>\n",
              "      <td>TOT</td>\n",
              "      <td>PC_GDP</td>\n",
              "      <td>A</td>\n",
              "      <td>1974</td>\n",
              "      <td>5.112</td>\n",
              "      <td>NaN</td>\n",
              "    </tr>\n",
              "    <tr>\n",
              "      <th>4</th>\n",
              "      <td>AUS</td>\n",
              "      <td>HEALTHEXP</td>\n",
              "      <td>TOT</td>\n",
              "      <td>PC_GDP</td>\n",
              "      <td>A</td>\n",
              "      <td>1975</td>\n",
              "      <td>5.760</td>\n",
              "      <td>NaN</td>\n",
              "    </tr>\n",
              "    <tr>\n",
              "      <th>...</th>\n",
              "      <td>...</td>\n",
              "      <td>...</td>\n",
              "      <td>...</td>\n",
              "      <td>...</td>\n",
              "      <td>...</td>\n",
              "      <td>...</td>\n",
              "      <td>...</td>\n",
              "      <td>...</td>\n",
              "    </tr>\n",
              "    <tr>\n",
              "      <th>16678</th>\n",
              "      <td>SRB</td>\n",
              "      <td>HEALTHEXP</td>\n",
              "      <td>COMPULSORY</td>\n",
              "      <td>PC_GDP</td>\n",
              "      <td>A</td>\n",
              "      <td>2017</td>\n",
              "      <td>4.792</td>\n",
              "      <td>NaN</td>\n",
              "    </tr>\n",
              "    <tr>\n",
              "      <th>16679</th>\n",
              "      <td>SRB</td>\n",
              "      <td>HEALTHEXP</td>\n",
              "      <td>VOLUNTARY</td>\n",
              "      <td>PC_GDP</td>\n",
              "      <td>A</td>\n",
              "      <td>2017</td>\n",
              "      <td>3.642</td>\n",
              "      <td>NaN</td>\n",
              "    </tr>\n",
              "    <tr>\n",
              "      <th>16680</th>\n",
              "      <td>SRB</td>\n",
              "      <td>HEALTHEXP</td>\n",
              "      <td>OOPEXP</td>\n",
              "      <td>PC_HEALTHXP</td>\n",
              "      <td>A</td>\n",
              "      <td>2017</td>\n",
              "      <td>41.752</td>\n",
              "      <td>NaN</td>\n",
              "    </tr>\n",
              "    <tr>\n",
              "      <th>16681</th>\n",
              "      <td>SRB</td>\n",
              "      <td>HEALTHEXP</td>\n",
              "      <td>COMPULSORY</td>\n",
              "      <td>PC_HEALTHXP</td>\n",
              "      <td>A</td>\n",
              "      <td>2017</td>\n",
              "      <td>56.815</td>\n",
              "      <td>NaN</td>\n",
              "    </tr>\n",
              "    <tr>\n",
              "      <th>16682</th>\n",
              "      <td>SRB</td>\n",
              "      <td>HEALTHEXP</td>\n",
              "      <td>VOLUNTARY</td>\n",
              "      <td>PC_HEALTHXP</td>\n",
              "      <td>A</td>\n",
              "      <td>2017</td>\n",
              "      <td>43.185</td>\n",
              "      <td>NaN</td>\n",
              "    </tr>\n",
              "  </tbody>\n",
              "</table>\n",
              "<p>16683 rows × 8 columns</p>\n",
              "</div>"
            ],
            "text/plain": [
              "      LOCATION  INDICATOR     SUBJECT  ...  TIME   Value  Flag Codes\n",
              "0          AUS  HEALTHEXP         TOT  ...  1971   4.547         NaN\n",
              "1          AUS  HEALTHEXP         TOT  ...  1972   4.547         NaN\n",
              "2          AUS  HEALTHEXP         TOT  ...  1973   4.511         NaN\n",
              "3          AUS  HEALTHEXP         TOT  ...  1974   5.112         NaN\n",
              "4          AUS  HEALTHEXP         TOT  ...  1975   5.760         NaN\n",
              "...        ...        ...         ...  ...   ...     ...         ...\n",
              "16678      SRB  HEALTHEXP  COMPULSORY  ...  2017   4.792         NaN\n",
              "16679      SRB  HEALTHEXP   VOLUNTARY  ...  2017   3.642         NaN\n",
              "16680      SRB  HEALTHEXP      OOPEXP  ...  2017  41.752         NaN\n",
              "16681      SRB  HEALTHEXP  COMPULSORY  ...  2017  56.815         NaN\n",
              "16682      SRB  HEALTHEXP   VOLUNTARY  ...  2017  43.185         NaN\n",
              "\n",
              "[16683 rows x 8 columns]"
            ]
          },
          "metadata": {},
          "execution_count": 13
        }
      ]
    },
    {
      "cell_type": "code",
      "metadata": {
        "colab": {
          "base_uri": "https://localhost:8080/"
        },
        "id": "BeOvLYfxN9VP",
        "outputId": "c93f504b-de88-41cb-cb77-957628ec4e85"
      },
      "source": [
        "df['SUBJECT'].value_counts()"
      ],
      "execution_count": 10,
      "outputs": [
        {
          "output_type": "execute_result",
          "data": {
            "text/plain": [
              "VOLUNTARY     4787\n",
              "COMPULSORY    4763\n",
              "OOPEXP        3843\n",
              "TOT           3290\n",
              "Name: SUBJECT, dtype: int64"
            ]
          },
          "metadata": {},
          "execution_count": 10
        }
      ]
    },
    {
      "cell_type": "code",
      "metadata": {
        "colab": {
          "base_uri": "https://localhost:8080/",
          "height": 298
        },
        "id": "4zc9a5C1xhW8",
        "outputId": "02b02152-b807-46c4-dcf4-75477c891eb8"
      },
      "source": [
        "fig, axes = plt.subplots(nrows = 1, ncols = 1)\n",
        "fig.set_figheight(4)\n",
        "plt.plot(df['TIME'], df['Value'], 'o' ,c='k')\n",
        "axes.set_xlabel('YEAR', fontsize = 15)\n",
        "axes.set_ylabel('COST', fontsize = 15)\n",
        "axes.set_title('Healthcare Cost Growth', fontsize = 16)"
      ],
      "execution_count": 26,
      "outputs": [
        {
          "output_type": "execute_result",
          "data": {
            "text/plain": [
              "Text(0, 0.5, 'COST')"
            ]
          },
          "metadata": {},
          "execution_count": 26
        },
        {
          "output_type": "display_data",
          "data": {
            "image/png": "[encoded data removed]",
            "text/plain": [
              "<Figure size 432x288 with 1 Axes>"
            ]
          },
          "metadata": {}
        }
      ]
    }
  ]
}